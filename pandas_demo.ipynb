{
  "nbformat": 4,
  "nbformat_minor": 0,
  "metadata": {
    "colab": {
      "name": "pandas-demo.ipynb",
      "provenance": [],
      "authorship_tag": "ABX9TyPFDh9WcGdx+h09YVl9ynqL",
      "include_colab_link": true
    },
    "kernelspec": {
      "name": "python3",
      "display_name": "Python 3"
    },
    "language_info": {
      "name": "python"
    }
  },
  "cells": [
    {
      "cell_type": "markdown",
      "metadata": {
        "id": "view-in-github",
        "colab_type": "text"
      },
      "source": [
        "<a href=\"https://colab.research.google.com/github/imekss/phyton_analytics_demo/blob/main/pandas_demo.ipynb\" target=\"_parent\"><img src=\"https://colab.research.google.com/assets/colab-badge.svg\" alt=\"Open In Colab\"/></a>"
      ]
    },
    {
      "cell_type": "markdown",
      "source": [
        "# Pandas - Demo and Examples\n",
        "\n",
        "---"
      ],
      "metadata": {
        "id": "wxUkKpKspXqV"
      }
    },
    {
      "cell_type": "code",
      "execution_count": 1,
      "metadata": {
        "id": "JR1KAWnOpIPk"
      },
      "outputs": [],
      "source": [
        "import pandas as pd\n",
        "import numpy as np"
      ]
    },
    {
      "cell_type": "markdown",
      "source": [
        "We'll start analyzing \"The Group of Eight\":. Which is a political formed by Canada, France, Germany, Italy, Japan,the United Kingdom, the United States,Russia. We'll start by analyzing population, and for that, we'll use a ***pandas.Series*** object.\n"
      ],
      "metadata": {
        "id": "MP2o4cPSABVs"
      }
    },
    {
      "cell_type": "code",
      "source": [
        "g8_pop = pd.Series([35.467, 63.951, 80.940, 60.665, 127.061, 64.511, 318.523, 145.872])"
      ],
      "metadata": {
        "id": "G_fw5L6XrAB5"
      },
      "execution_count": 2,
      "outputs": []
    },
    {
      "cell_type": "code",
      "source": [
        "g8_pop"
      ],
      "metadata": {
        "id": "wgVwefxjqWBA",
        "colab": {
          "base_uri": "https://localhost:8080/"
        },
        "outputId": "75069b60-23f1-4a2e-9b7f-3015a90d5ffd"
      },
      "execution_count": 3,
      "outputs": [
        {
          "output_type": "execute_result",
          "data": {
            "text/plain": [
              "0     35.467\n",
              "1     63.951\n",
              "2     80.940\n",
              "3     60.665\n",
              "4    127.061\n",
              "5     64.511\n",
              "6    318.523\n",
              "7    145.872\n",
              "dtype: float64"
            ]
          },
          "metadata": {},
          "execution_count": 3
        }
      ]
    },
    {
      "cell_type": "markdown",
      "source": [
        "The represation of the population is in millions of inhabitants. Series can have a name, to better document the purpose of the Series"
      ],
      "metadata": {
        "id": "b6wmw4wdDdP4"
      }
    },
    {
      "cell_type": "code",
      "source": [
        "g8_pop.name = 'G8 Population in milions'"
      ],
      "metadata": {
        "id": "ecfAY4nrDtI4"
      },
      "execution_count": 5,
      "outputs": []
    },
    {
      "cell_type": "code",
      "source": [
        "g8_pop.dtype"
      ],
      "metadata": {
        "colab": {
          "base_uri": "https://localhost:8080/"
        },
        "id": "10--2wPoDzRw",
        "outputId": "f7469a8d-e99a-4380-f459-c016e1213bf3"
      },
      "execution_count": 4,
      "outputs": [
        {
          "output_type": "execute_result",
          "data": {
            "text/plain": [
              "dtype('float64')"
            ]
          },
          "metadata": {},
          "execution_count": 4
        }
      ]
    },
    {
      "cell_type": "markdown",
      "source": [
        "Phyton list, similar to Panda.Series, have indexes. The two differnces are:\n",
        "1.   Panda.Series'indexes are more explicit\n",
        "2.   Panda.Series'indexes can be changed"
      ],
      "metadata": {
        "id": "ndSEuc8MESx1"
      }
    },
    {
      "cell_type": "code",
      "source": [
        "g8_pop.index = [\n",
        "                'Canada',\n",
        "                'France',\n",
        "                'Germany',\n",
        "                'Italy',\n",
        "                'Japan',\n",
        "                'United Kingdom',\n",
        "                'United States',\n",
        "                'Russia',\n",
        "]"
      ],
      "metadata": {
        "id": "EUNtwfW7EftG"
      },
      "execution_count": 6,
      "outputs": []
    },
    {
      "cell_type": "code",
      "source": [
        "g8_pop"
      ],
      "metadata": {
        "colab": {
          "base_uri": "https://localhost:8080/"
        },
        "id": "b--gi3AvFkTK",
        "outputId": "080d84fb-a167-40cb-e9bd-2e5c0b720a79"
      },
      "execution_count": 7,
      "outputs": [
        {
          "output_type": "execute_result",
          "data": {
            "text/plain": [
              "Canada             35.467\n",
              "France             63.951\n",
              "Germany            80.940\n",
              "Italy              60.665\n",
              "Japan             127.061\n",
              "United Kingdom     64.511\n",
              "United States     318.523\n",
              "Russia            145.872\n",
              "Name: G8 Population in milions, dtype: float64"
            ]
          },
          "metadata": {},
          "execution_count": 7
        }
      ]
    },
    {
      "cell_type": "markdown",
      "source": [
        "Alternative way to create Series and assigning name and indexes (1)"
      ],
      "metadata": {
        "id": "nTNMcBazHoE4"
      }
    },
    {
      "cell_type": "code",
      "source": [
        "pd.Series({'Canada': 35.467, 'France':63.951, 'Germany': 80.940, 'Italy': 60.665, 'Japan': 127.061, 'United Kingdom': 64.511, 'United States': 318.523, 'Russia': 145.872}, name = 'G8 Population in milions')"
      ],
      "metadata": {
        "colab": {
          "base_uri": "https://localhost:8080/"
        },
        "id": "GdnPjkRjJPWQ",
        "outputId": "89c1497e-ccc0-4861-8731-ddb68b45d7c4"
      },
      "execution_count": 26,
      "outputs": [
        {
          "output_type": "execute_result",
          "data": {
            "text/plain": [
              "Canada             35.467\n",
              "France             63.951\n",
              "Germany            80.940\n",
              "Italy              60.665\n",
              "Japan             127.061\n",
              "United Kingdom     64.511\n",
              "United States     318.523\n",
              "Russia            145.872\n",
              "Name: G8 Population in milions, dtype: float64"
            ]
          },
          "metadata": {},
          "execution_count": 26
        }
      ]
    },
    {
      "cell_type": "markdown",
      "source": [
        "Alternative way to create Series and assigning name and indexes (2)"
      ],
      "metadata": {
        "id": "_qQARFpAL1Hj"
      }
    },
    {
      "cell_type": "code",
      "source": [
        "pd.Series([35.467, 63.951, 80.940, 60.665, 127.061, 64.511, 318.523, 145.872], index =['Canada','France','Germany','Italy','Japan','United Kingdom','United States','Russia'], name = 'G8 Population in milions' )"
      ],
      "metadata": {
        "colab": {
          "base_uri": "https://localhost:8080/"
        },
        "id": "bEvCOKxYLTQy",
        "outputId": "d1f1074f-43f6-4481-91dd-993b1eee9888"
      },
      "execution_count": 32,
      "outputs": [
        {
          "output_type": "execute_result",
          "data": {
            "text/plain": [
              "Canada             35.467\n",
              "France             63.951\n",
              "Germany            80.940\n",
              "Italy              60.665\n",
              "Japan             127.061\n",
              "United Kingdom     64.511\n",
              "United States     318.523\n",
              "Russia            145.872\n",
              "Name: G8 Population in milions, dtype: float64"
            ]
          },
          "metadata": {},
          "execution_count": 32
        }
      ]
    },
    {
      "cell_type": "markdown",
      "source": [
        "You can create series out of other series"
      ],
      "metadata": {
        "id": "9HsIWsR2MI1H"
      }
    },
    {
      "cell_type": "code",
      "source": [
        "pd.Series(g8_pop, index =['France','Italy','Spain'])"
      ],
      "metadata": {
        "colab": {
          "base_uri": "https://localhost:8080/"
        },
        "id": "KTYYmfCLMNZg",
        "outputId": "38b1cb64-f0b3-4c70-d99d-1b19d748d9d2"
      },
      "execution_count": 34,
      "outputs": [
        {
          "output_type": "execute_result",
          "data": {
            "text/plain": [
              "France    63.951\n",
              "Italy     60.665\n",
              "Spain        NaN\n",
              "Name: G8 Population in milions, dtype: float64"
            ]
          },
          "metadata": {},
          "execution_count": 34
        }
      ]
    },
    {
      "cell_type": "markdown",
      "source": [
        "# Indexing"
      ],
      "metadata": {
        "id": "x9gOomkGMjX5"
      }
    },
    {
      "cell_type": "code",
      "source": [
        "g8_pop['Canada']"
      ],
      "metadata": {
        "colab": {
          "base_uri": "https://localhost:8080/"
        },
        "outputId": "b4ebf264-f0f0-4281-c066-127111e5da3c",
        "id": "aLb81cyJMr6Q"
      },
      "execution_count": 35,
      "outputs": [
        {
          "output_type": "execute_result",
          "data": {
            "text/plain": [
              "35.467"
            ]
          },
          "metadata": {},
          "execution_count": 35
        }
      ]
    },
    {
      "cell_type": "markdown",
      "source": [
        "With series you can still get the elements by the elements orders with iloc (location)"
      ],
      "metadata": {
        "id": "nKDxHyG2NDtd"
      }
    },
    {
      "cell_type": "code",
      "source": [
        "g8_pop.iloc[0]"
      ],
      "metadata": {
        "colab": {
          "base_uri": "https://localhost:8080/"
        },
        "id": "ndT2KRJYM07c",
        "outputId": "3d6bcf56-76d9-4a34-f54b-14b6ac8e9f03"
      },
      "execution_count": 37,
      "outputs": [
        {
          "output_type": "execute_result",
          "data": {
            "text/plain": [
              "35.467"
            ]
          },
          "metadata": {},
          "execution_count": 37
        }
      ]
    },
    {
      "cell_type": "code",
      "source": [
        "g8_pop.iloc[-2]"
      ],
      "metadata": {
        "colab": {
          "base_uri": "https://localhost:8080/"
        },
        "id": "iQX405fMM_TN",
        "outputId": "7e3323ce-db2f-40a6-b934-1378d2bf2af6"
      },
      "execution_count": 38,
      "outputs": [
        {
          "output_type": "execute_result",
          "data": {
            "text/plain": [
              "318.523"
            ]
          },
          "metadata": {},
          "execution_count": 38
        }
      ]
    },
    {
      "cell_type": "markdown",
      "source": [
        "Selecting multiple elements at once:"
      ],
      "metadata": {
        "id": "mvjzCL1QNgJq"
      }
    },
    {
      "cell_type": "code",
      "source": [
        "g8_pop[['Canada','France']]"
      ],
      "metadata": {
        "colab": {
          "base_uri": "https://localhost:8080/"
        },
        "id": "rk4hDgn0Nxrr",
        "outputId": "a04a0bfa-9dcf-4d1c-c9a2-a27e420fb202"
      },
      "execution_count": 44,
      "outputs": [
        {
          "output_type": "execute_result",
          "data": {
            "text/plain": [
              "Canada    35.467\n",
              "France    63.951\n",
              "Name: G8 Population in milions, dtype: float64"
            ]
          },
          "metadata": {},
          "execution_count": 44
        }
      ]
    },
    {
      "cell_type": "code",
      "source": [
        "g8_pop.iloc[[0,-1]]"
      ],
      "metadata": {
        "colab": {
          "base_uri": "https://localhost:8080/"
        },
        "id": "AuSY6gVGNh1t",
        "outputId": "e6250a6e-857b-43ad-fc56-eab112a61793"
      },
      "execution_count": 46,
      "outputs": [
        {
          "output_type": "execute_result",
          "data": {
            "text/plain": [
              "Canada     35.467\n",
              "Russia    145.872\n",
              "Name: G8 Population in milions, dtype: float64"
            ]
          },
          "metadata": {},
          "execution_count": 46
        }
      ]
    },
    {
      "cell_type": "markdown",
      "source": [
        "Slincing/Range also works, but **important**, in Pandas, the upper limit is also included:\n",
        "\n",
        "For example this is a list in phyton:\n",
        "l = 'a', 'b','c'\n",
        "with l[:2] the upper limit in not included (so we take only 0 and 1)\n",
        "'a', 'b' will be the result\n",
        "\n",
        "with Panda.Series, with the slicing, ***the upper is included***"
      ],
      "metadata": {
        "id": "86HOxuPUOhC8"
      }
    },
    {
      "cell_type": "code",
      "source": [
        "g8_pop"
      ],
      "metadata": {
        "colab": {
          "base_uri": "https://localhost:8080/"
        },
        "id": "ioiaFzlcPb4y",
        "outputId": "fdab6da6-cc4b-4120-8902-8523d2884b64"
      },
      "execution_count": 48,
      "outputs": [
        {
          "output_type": "execute_result",
          "data": {
            "text/plain": [
              "Canada             35.467\n",
              "France             63.951\n",
              "Germany            80.940\n",
              "Italy              60.665\n",
              "Japan             127.061\n",
              "United Kingdom     64.511\n",
              "United States     318.523\n",
              "Russia            145.872\n",
              "Name: G8 Population in milions, dtype: float64"
            ]
          },
          "metadata": {},
          "execution_count": 48
        }
      ]
    },
    {
      "cell_type": "code",
      "source": [
        "g8_pop['Canada' : 'Italy']"
      ],
      "metadata": {
        "colab": {
          "base_uri": "https://localhost:8080/"
        },
        "id": "9ccKh8a2PhQG",
        "outputId": "a356acc8-2b26-4731-e11f-32cdc0784cc2"
      },
      "execution_count": 49,
      "outputs": [
        {
          "output_type": "execute_result",
          "data": {
            "text/plain": [
              "Canada     35.467\n",
              "France     63.951\n",
              "Germany    80.940\n",
              "Italy      60.665\n",
              "Name: G8 Population in milions, dtype: float64"
            ]
          },
          "metadata": {},
          "execution_count": 49
        }
      ]
    }
  ]
}