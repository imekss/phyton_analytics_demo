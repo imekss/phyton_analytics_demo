{
  "nbformat": 4,
  "nbformat_minor": 0,
  "metadata": {
    "colab": {
      "name": "pandas-demo.ipynb",
      "provenance": [],
      "authorship_tag": "ABX9TyMsUf8ambyIifD7+xhgDCvJ",
      "include_colab_link": true
    },
    "kernelspec": {
      "name": "python3",
      "display_name": "Python 3"
    },
    "language_info": {
      "name": "python"
    }
  },
  "cells": [
    {
      "cell_type": "markdown",
      "metadata": {
        "id": "view-in-github",
        "colab_type": "text"
      },
      "source": [
        "<a href=\"https://colab.research.google.com/github/imekss/phyton_analytics_demo/blob/main/pandas_demo.ipynb\" target=\"_parent\"><img src=\"https://colab.research.google.com/assets/colab-badge.svg\" alt=\"Open In Colab\"/></a>"
      ]
    },
    {
      "cell_type": "markdown",
      "source": [
        "# Pandas - Demo and Examples\n",
        "\n",
        "---"
      ],
      "metadata": {
        "id": "wxUkKpKspXqV"
      }
    },
    {
      "cell_type": "code",
      "execution_count": 1,
      "metadata": {
        "id": "JR1KAWnOpIPk"
      },
      "outputs": [],
      "source": [
        "import pandas as pd\n",
        "import numpy as np"
      ]
    },
    {
      "cell_type": "markdown",
      "source": [
        "We'll start analyzing \"The Group of Eight\":. Which is a political formed by Canada, France, Germany, Italy, Japan,the United Kingdom, the United States,Russia. We'll start by analyzing population, and for that, we'll use a ***pandas.Series*** object.\n"
      ],
      "metadata": {
        "id": "MP2o4cPSABVs"
      }
    },
    {
      "cell_type": "code",
      "source": [
        "g8_pop = pd.Series([35.467, 63.951, 80.940, 60.665, 127.061, 64.511, 318.523, 145.872])"
      ],
      "metadata": {
        "id": "G_fw5L6XrAB5"
      },
      "execution_count": 2,
      "outputs": []
    },
    {
      "cell_type": "code",
      "source": [
        "g8_pop"
      ],
      "metadata": {
        "id": "wgVwefxjqWBA",
        "colab": {
          "base_uri": "https://localhost:8080/"
        },
        "outputId": "75069b60-23f1-4a2e-9b7f-3015a90d5ffd"
      },
      "execution_count": 3,
      "outputs": [
        {
          "output_type": "execute_result",
          "data": {
            "text/plain": [
              "0     35.467\n",
              "1     63.951\n",
              "2     80.940\n",
              "3     60.665\n",
              "4    127.061\n",
              "5     64.511\n",
              "6    318.523\n",
              "7    145.872\n",
              "dtype: float64"
            ]
          },
          "metadata": {},
          "execution_count": 3
        }
      ]
    },
    {
      "cell_type": "markdown",
      "source": [
        "The represation of the population is in millions of inhabitants. Series can have a name, to better document the purpose of the Series"
      ],
      "metadata": {
        "id": "b6wmw4wdDdP4"
      }
    },
    {
      "cell_type": "code",
      "source": [
        "g8_pop.name = 'G8 Population in milions'"
      ],
      "metadata": {
        "id": "ecfAY4nrDtI4"
      },
      "execution_count": 5,
      "outputs": []
    },
    {
      "cell_type": "code",
      "source": [
        "g8_pop.dtype"
      ],
      "metadata": {
        "colab": {
          "base_uri": "https://localhost:8080/"
        },
        "id": "10--2wPoDzRw",
        "outputId": "f7469a8d-e99a-4380-f459-c016e1213bf3"
      },
      "execution_count": 4,
      "outputs": [
        {
          "output_type": "execute_result",
          "data": {
            "text/plain": [
              "dtype('float64')"
            ]
          },
          "metadata": {},
          "execution_count": 4
        }
      ]
    },
    {
      "cell_type": "markdown",
      "source": [
        "Phyton list, similar to Panda.Series, have indexes. The two differnces are:\n",
        "1.   Panda.Series'indexes are more explicit\n",
        "2.   Panda.Series'indexes can be changed"
      ],
      "metadata": {
        "id": "ndSEuc8MESx1"
      }
    },
    {
      "cell_type": "code",
      "source": [
        "g8_pop.index = [\n",
        "                'Canada',\n",
        "                'France',\n",
        "                'Germany',\n",
        "                'Italy',\n",
        "                'Japan',\n",
        "                'United Kingdom',\n",
        "                'United States',\n",
        "                'Russia',\n",
        "]"
      ],
      "metadata": {
        "id": "EUNtwfW7EftG"
      },
      "execution_count": null,
      "outputs": []
    }
  ]
}